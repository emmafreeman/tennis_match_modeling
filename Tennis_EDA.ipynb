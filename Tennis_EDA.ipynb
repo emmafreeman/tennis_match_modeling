{
 "cells": [
  {
   "cell_type": "code",
   "execution_count": 1,
   "metadata": {
    "collapsed": true
   },
   "outputs": [],
   "source": [
    "import pandas as pd\n",
    "import numpy as np"
   ]
  },
  {
   "cell_type": "code",
   "execution_count": 2,
   "metadata": {
    "collapsed": true
   },
   "outputs": [],
   "source": [
    "tennis = pd.read_csv('tennis_match_data.csv')"
   ]
  },
  {
   "cell_type": "code",
   "execution_count": 3,
   "metadata": {
    "collapsed": false
   },
   "outputs": [
    {
     "data": {
      "text/html": [
       "<div>\n",
       "<table border=\"1\" class=\"dataframe\">\n",
       "  <thead>\n",
       "    <tr style=\"text-align: right;\">\n",
       "      <th></th>\n",
       "      <th>FixtureId</th>\n",
       "      <th>Competitor1CurrentGameScorePoints</th>\n",
       "      <th>Competitor1CurrentSetScore</th>\n",
       "      <th>Competitor1MatchScore</th>\n",
       "      <th>Competitor2CurrentGameScorePoints</th>\n",
       "      <th>Competitor2CurrentSetScore</th>\n",
       "      <th>Competitor2MatchScore</th>\n",
       "      <th>Serving</th>\n",
       "      <th>StateOfPlay</th>\n",
       "    </tr>\n",
       "  </thead>\n",
       "  <tbody>\n",
       "    <tr>\n",
       "      <th>0</th>\n",
       "      <td>3221713</td>\n",
       "      <td>0</td>\n",
       "      <td>0</td>\n",
       "      <td>0</td>\n",
       "      <td>0</td>\n",
       "      <td>0</td>\n",
       "      <td>0</td>\n",
       "      <td>2</td>\n",
       "      <td>PointInProgress</td>\n",
       "    </tr>\n",
       "    <tr>\n",
       "      <th>1</th>\n",
       "      <td>3221713</td>\n",
       "      <td>0</td>\n",
       "      <td>0</td>\n",
       "      <td>0</td>\n",
       "      <td>1</td>\n",
       "      <td>0</td>\n",
       "      <td>0</td>\n",
       "      <td>2</td>\n",
       "      <td>BetweenPoints</td>\n",
       "    </tr>\n",
       "    <tr>\n",
       "      <th>2</th>\n",
       "      <td>3221713</td>\n",
       "      <td>0</td>\n",
       "      <td>0</td>\n",
       "      <td>0</td>\n",
       "      <td>2</td>\n",
       "      <td>0</td>\n",
       "      <td>0</td>\n",
       "      <td>2</td>\n",
       "      <td>BetweenPoints</td>\n",
       "    </tr>\n",
       "    <tr>\n",
       "      <th>3</th>\n",
       "      <td>3221713</td>\n",
       "      <td>1</td>\n",
       "      <td>0</td>\n",
       "      <td>0</td>\n",
       "      <td>2</td>\n",
       "      <td>0</td>\n",
       "      <td>0</td>\n",
       "      <td>2</td>\n",
       "      <td>BetweenPoints</td>\n",
       "    </tr>\n",
       "    <tr>\n",
       "      <th>4</th>\n",
       "      <td>3221713</td>\n",
       "      <td>1</td>\n",
       "      <td>0</td>\n",
       "      <td>0</td>\n",
       "      <td>3</td>\n",
       "      <td>0</td>\n",
       "      <td>0</td>\n",
       "      <td>2</td>\n",
       "      <td>BetweenPoints</td>\n",
       "    </tr>\n",
       "  </tbody>\n",
       "</table>\n",
       "</div>"
      ],
      "text/plain": [
       "   FixtureId  Competitor1CurrentGameScorePoints  Competitor1CurrentSetScore  \\\n",
       "0    3221713                                  0                           0   \n",
       "1    3221713                                  0                           0   \n",
       "2    3221713                                  0                           0   \n",
       "3    3221713                                  1                           0   \n",
       "4    3221713                                  1                           0   \n",
       "\n",
       "   Competitor1MatchScore  Competitor2CurrentGameScorePoints  \\\n",
       "0                      0                                  0   \n",
       "1                      0                                  1   \n",
       "2                      0                                  2   \n",
       "3                      0                                  2   \n",
       "4                      0                                  3   \n",
       "\n",
       "   Competitor2CurrentSetScore  Competitor2MatchScore  Serving      StateOfPlay  \n",
       "0                           0                      0        2  PointInProgress  \n",
       "1                           0                      0        2    BetweenPoints  \n",
       "2                           0                      0        2    BetweenPoints  \n",
       "3                           0                      0        2    BetweenPoints  \n",
       "4                           0                      0        2    BetweenPoints  "
      ]
     },
     "execution_count": 3,
     "metadata": {},
     "output_type": "execute_result"
    }
   ],
   "source": [
    "tennis.head()"
   ]
  },
  {
   "cell_type": "markdown",
   "metadata": {},
   "source": [
    "### Check shape, data types, null values"
   ]
  },
  {
   "cell_type": "code",
   "execution_count": 4,
   "metadata": {
    "collapsed": false
   },
   "outputs": [
    {
     "name": "stdout",
     "output_type": "stream",
     "text": [
      "<class 'pandas.core.frame.DataFrame'>\n",
      "RangeIndex: 610381 entries, 0 to 610380\n",
      "Data columns (total 9 columns):\n",
      "FixtureId                            610381 non-null int64\n",
      "Competitor1CurrentGameScorePoints    610381 non-null int64\n",
      "Competitor1CurrentSetScore           610381 non-null int64\n",
      "Competitor1MatchScore                610381 non-null int64\n",
      "Competitor2CurrentGameScorePoints    610381 non-null int64\n",
      "Competitor2CurrentSetScore           610381 non-null int64\n",
      "Competitor2MatchScore                610381 non-null int64\n",
      "Serving                              610381 non-null int64\n",
      "StateOfPlay                          610381 non-null object\n",
      "dtypes: int64(8), object(1)\n",
      "memory usage: 41.9+ MB\n"
     ]
    }
   ],
   "source": [
    "tennis.info()"
   ]
  },
  {
   "cell_type": "markdown",
   "metadata": {},
   "source": [
    "### What are the values for \"StateOfPlay\"?"
   ]
  },
  {
   "cell_type": "code",
   "execution_count": 5,
   "metadata": {
    "collapsed": false
   },
   "outputs": [
    {
     "data": {
      "text/plain": [
       "BetweenPoints                  601031\n",
       "PointInProgress                  4721\n",
       "WinnerCompetitorOne              2326\n",
       "WinnerCompetitorTwo              2174\n",
       "PlaySuspended                      70\n",
       "ShortDelay                         32\n",
       "Challenge                          22\n",
       "MedicalTimeoutCompetitorTwo         3\n",
       "MedicalTimeoutCompetitorOne         2\n",
       "Name: StateOfPlay, dtype: int64"
      ]
     },
     "execution_count": 5,
     "metadata": {},
     "output_type": "execute_result"
    }
   ],
   "source": [
    "tennis.StateOfPlay.value_counts()"
   ]
  },
  {
   "cell_type": "markdown",
   "metadata": {},
   "source": [
    "#### (Note that the winner classes are balanced)"
   ]
  },
  {
   "cell_type": "markdown",
   "metadata": {},
   "source": [
    "#### How many medical timeouts are there, and what effect do they have on who wins?"
   ]
  },
  {
   "cell_type": "code",
   "execution_count": 29,
   "metadata": {
    "collapsed": false
   },
   "outputs": [
    {
     "data": {
      "text/html": [
       "<div>\n",
       "<table border=\"1\" class=\"dataframe\">\n",
       "  <thead>\n",
       "    <tr style=\"text-align: right;\">\n",
       "      <th></th>\n",
       "      <th>FixtureId</th>\n",
       "      <th>Competitor1CurrentGameScorePoints</th>\n",
       "      <th>Competitor1CurrentSetScore</th>\n",
       "      <th>Competitor1MatchScore</th>\n",
       "      <th>Competitor2CurrentGameScorePoints</th>\n",
       "      <th>Competitor2CurrentSetScore</th>\n",
       "      <th>Competitor2MatchScore</th>\n",
       "      <th>Serving</th>\n",
       "      <th>StateOfPlay</th>\n",
       "    </tr>\n",
       "  </thead>\n",
       "  <tbody>\n",
       "    <tr>\n",
       "      <th>69302</th>\n",
       "      <td>3940718</td>\n",
       "      <td>0</td>\n",
       "      <td>0</td>\n",
       "      <td>0</td>\n",
       "      <td>0</td>\n",
       "      <td>0</td>\n",
       "      <td>0</td>\n",
       "      <td>2</td>\n",
       "      <td>MedicalTimeoutCompetitorTwo</td>\n",
       "    </tr>\n",
       "    <tr>\n",
       "      <th>122666</th>\n",
       "      <td>3962341</td>\n",
       "      <td>0</td>\n",
       "      <td>0</td>\n",
       "      <td>0</td>\n",
       "      <td>0</td>\n",
       "      <td>0</td>\n",
       "      <td>0</td>\n",
       "      <td>2</td>\n",
       "      <td>MedicalTimeoutCompetitorTwo</td>\n",
       "    </tr>\n",
       "    <tr>\n",
       "      <th>542453</th>\n",
       "      <td>4249614</td>\n",
       "      <td>0</td>\n",
       "      <td>0</td>\n",
       "      <td>0</td>\n",
       "      <td>0</td>\n",
       "      <td>0</td>\n",
       "      <td>0</td>\n",
       "      <td>2</td>\n",
       "      <td>MedicalTimeoutCompetitorOne</td>\n",
       "    </tr>\n",
       "    <tr>\n",
       "      <th>543637</th>\n",
       "      <td>4249628</td>\n",
       "      <td>0</td>\n",
       "      <td>0</td>\n",
       "      <td>0</td>\n",
       "      <td>0</td>\n",
       "      <td>0</td>\n",
       "      <td>0</td>\n",
       "      <td>2</td>\n",
       "      <td>MedicalTimeoutCompetitorOne</td>\n",
       "    </tr>\n",
       "    <tr>\n",
       "      <th>604486</th>\n",
       "      <td>4272686</td>\n",
       "      <td>0</td>\n",
       "      <td>0</td>\n",
       "      <td>0</td>\n",
       "      <td>0</td>\n",
       "      <td>0</td>\n",
       "      <td>0</td>\n",
       "      <td>2</td>\n",
       "      <td>MedicalTimeoutCompetitorTwo</td>\n",
       "    </tr>\n",
       "  </tbody>\n",
       "</table>\n",
       "</div>"
      ],
      "text/plain": [
       "        FixtureId  Competitor1CurrentGameScorePoints  \\\n",
       "69302     3940718                                  0   \n",
       "122666    3962341                                  0   \n",
       "542453    4249614                                  0   \n",
       "543637    4249628                                  0   \n",
       "604486    4272686                                  0   \n",
       "\n",
       "        Competitor1CurrentSetScore  Competitor1MatchScore  \\\n",
       "69302                            0                      0   \n",
       "122666                           0                      0   \n",
       "542453                           0                      0   \n",
       "543637                           0                      0   \n",
       "604486                           0                      0   \n",
       "\n",
       "        Competitor2CurrentGameScorePoints  Competitor2CurrentSetScore  \\\n",
       "69302                                   0                           0   \n",
       "122666                                  0                           0   \n",
       "542453                                  0                           0   \n",
       "543637                                  0                           0   \n",
       "604486                                  0                           0   \n",
       "\n",
       "        Competitor2MatchScore  Serving                  StateOfPlay  \n",
       "69302                       0        2  MedicalTimeoutCompetitorTwo  \n",
       "122666                      0        2  MedicalTimeoutCompetitorTwo  \n",
       "542453                      0        2  MedicalTimeoutCompetitorOne  \n",
       "543637                      0        2  MedicalTimeoutCompetitorOne  \n",
       "604486                      0        2  MedicalTimeoutCompetitorTwo  "
      ]
     },
     "execution_count": 29,
     "metadata": {},
     "output_type": "execute_result"
    }
   ],
   "source": [
    "tennis[(tennis.StateOfPlay ==  'MedicalTimeoutCompetitorTwo') |\n",
    "       (tennis.StateOfPlay ==  'MedicalTimeoutCompetitorOne')\n",
    "      ]"
   ]
  },
  {
   "cell_type": "code",
   "execution_count": 30,
   "metadata": {
    "collapsed": true
   },
   "outputs": [],
   "source": [
    "med_timeouts = [3940718, 3962341, 4249614, 4249628, 4272686]"
   ]
  },
  {
   "cell_type": "code",
   "execution_count": 33,
   "metadata": {
    "collapsed": false
   },
   "outputs": [
    {
     "data": {
      "text/html": [
       "<div>\n",
       "<table border=\"1\" class=\"dataframe\">\n",
       "  <thead>\n",
       "    <tr style=\"text-align: right;\">\n",
       "      <th></th>\n",
       "      <th>FixtureId</th>\n",
       "      <th>Competitor1CurrentGameScorePoints</th>\n",
       "      <th>Competitor1CurrentSetScore</th>\n",
       "      <th>Competitor1MatchScore</th>\n",
       "      <th>Competitor2CurrentGameScorePoints</th>\n",
       "      <th>Competitor2CurrentSetScore</th>\n",
       "      <th>Competitor2MatchScore</th>\n",
       "      <th>Serving</th>\n",
       "      <th>StateOfPlay</th>\n",
       "    </tr>\n",
       "  </thead>\n",
       "  <tbody>\n",
       "    <tr>\n",
       "      <th>69302</th>\n",
       "      <td>3940718</td>\n",
       "      <td>0</td>\n",
       "      <td>0</td>\n",
       "      <td>0</td>\n",
       "      <td>0</td>\n",
       "      <td>0</td>\n",
       "      <td>0</td>\n",
       "      <td>2</td>\n",
       "      <td>MedicalTimeoutCompetitorTwo</td>\n",
       "    </tr>\n",
       "    <tr>\n",
       "      <th>69396</th>\n",
       "      <td>3940718</td>\n",
       "      <td>4</td>\n",
       "      <td>6</td>\n",
       "      <td>2</td>\n",
       "      <td>0</td>\n",
       "      <td>2</td>\n",
       "      <td>0</td>\n",
       "      <td>2</td>\n",
       "      <td>WinnerCompetitorOne</td>\n",
       "    </tr>\n",
       "    <tr>\n",
       "      <th>122666</th>\n",
       "      <td>3962341</td>\n",
       "      <td>0</td>\n",
       "      <td>0</td>\n",
       "      <td>0</td>\n",
       "      <td>0</td>\n",
       "      <td>0</td>\n",
       "      <td>0</td>\n",
       "      <td>2</td>\n",
       "      <td>MedicalTimeoutCompetitorTwo</td>\n",
       "    </tr>\n",
       "    <tr>\n",
       "      <th>122883</th>\n",
       "      <td>3962341</td>\n",
       "      <td>7</td>\n",
       "      <td>6</td>\n",
       "      <td>1</td>\n",
       "      <td>9</td>\n",
       "      <td>7</td>\n",
       "      <td>2</td>\n",
       "      <td>2</td>\n",
       "      <td>WinnerCompetitorTwo</td>\n",
       "    </tr>\n",
       "    <tr>\n",
       "      <th>542453</th>\n",
       "      <td>4249614</td>\n",
       "      <td>0</td>\n",
       "      <td>0</td>\n",
       "      <td>0</td>\n",
       "      <td>0</td>\n",
       "      <td>0</td>\n",
       "      <td>0</td>\n",
       "      <td>2</td>\n",
       "      <td>MedicalTimeoutCompetitorOne</td>\n",
       "    </tr>\n",
       "    <tr>\n",
       "      <th>542562</th>\n",
       "      <td>4249614</td>\n",
       "      <td>4</td>\n",
       "      <td>6</td>\n",
       "      <td>2</td>\n",
       "      <td>1</td>\n",
       "      <td>4</td>\n",
       "      <td>0</td>\n",
       "      <td>2</td>\n",
       "      <td>WinnerCompetitorOne</td>\n",
       "    </tr>\n",
       "    <tr>\n",
       "      <th>543637</th>\n",
       "      <td>4249628</td>\n",
       "      <td>0</td>\n",
       "      <td>0</td>\n",
       "      <td>0</td>\n",
       "      <td>0</td>\n",
       "      <td>0</td>\n",
       "      <td>0</td>\n",
       "      <td>2</td>\n",
       "      <td>MedicalTimeoutCompetitorOne</td>\n",
       "    </tr>\n",
       "    <tr>\n",
       "      <th>543757</th>\n",
       "      <td>4249628</td>\n",
       "      <td>2</td>\n",
       "      <td>3</td>\n",
       "      <td>0</td>\n",
       "      <td>4</td>\n",
       "      <td>6</td>\n",
       "      <td>2</td>\n",
       "      <td>2</td>\n",
       "      <td>WinnerCompetitorTwo</td>\n",
       "    </tr>\n",
       "    <tr>\n",
       "      <th>604486</th>\n",
       "      <td>4272686</td>\n",
       "      <td>0</td>\n",
       "      <td>0</td>\n",
       "      <td>0</td>\n",
       "      <td>0</td>\n",
       "      <td>0</td>\n",
       "      <td>0</td>\n",
       "      <td>2</td>\n",
       "      <td>MedicalTimeoutCompetitorTwo</td>\n",
       "    </tr>\n",
       "    <tr>\n",
       "      <th>604609</th>\n",
       "      <td>4272686</td>\n",
       "      <td>4</td>\n",
       "      <td>6</td>\n",
       "      <td>2</td>\n",
       "      <td>2</td>\n",
       "      <td>3</td>\n",
       "      <td>0</td>\n",
       "      <td>1</td>\n",
       "      <td>WinnerCompetitorOne</td>\n",
       "    </tr>\n",
       "  </tbody>\n",
       "</table>\n",
       "</div>"
      ],
      "text/plain": [
       "        FixtureId  Competitor1CurrentGameScorePoints  \\\n",
       "69302     3940718                                  0   \n",
       "69396     3940718                                  4   \n",
       "122666    3962341                                  0   \n",
       "122883    3962341                                  7   \n",
       "542453    4249614                                  0   \n",
       "542562    4249614                                  4   \n",
       "543637    4249628                                  0   \n",
       "543757    4249628                                  2   \n",
       "604486    4272686                                  0   \n",
       "604609    4272686                                  4   \n",
       "\n",
       "        Competitor1CurrentSetScore  Competitor1MatchScore  \\\n",
       "69302                            0                      0   \n",
       "69396                            6                      2   \n",
       "122666                           0                      0   \n",
       "122883                           6                      1   \n",
       "542453                           0                      0   \n",
       "542562                           6                      2   \n",
       "543637                           0                      0   \n",
       "543757                           3                      0   \n",
       "604486                           0                      0   \n",
       "604609                           6                      2   \n",
       "\n",
       "        Competitor2CurrentGameScorePoints  Competitor2CurrentSetScore  \\\n",
       "69302                                   0                           0   \n",
       "69396                                   0                           2   \n",
       "122666                                  0                           0   \n",
       "122883                                  9                           7   \n",
       "542453                                  0                           0   \n",
       "542562                                  1                           4   \n",
       "543637                                  0                           0   \n",
       "543757                                  4                           6   \n",
       "604486                                  0                           0   \n",
       "604609                                  2                           3   \n",
       "\n",
       "        Competitor2MatchScore  Serving                  StateOfPlay  \n",
       "69302                       0        2  MedicalTimeoutCompetitorTwo  \n",
       "69396                       0        2          WinnerCompetitorOne  \n",
       "122666                      0        2  MedicalTimeoutCompetitorTwo  \n",
       "122883                      2        2          WinnerCompetitorTwo  \n",
       "542453                      0        2  MedicalTimeoutCompetitorOne  \n",
       "542562                      0        2          WinnerCompetitorOne  \n",
       "543637                      0        2  MedicalTimeoutCompetitorOne  \n",
       "543757                      2        2          WinnerCompetitorTwo  \n",
       "604486                      0        2  MedicalTimeoutCompetitorTwo  \n",
       "604609                      0        1          WinnerCompetitorOne  "
      ]
     },
     "execution_count": 33,
     "metadata": {},
     "output_type": "execute_result"
    }
   ],
   "source": [
    "tennis[(tennis.FixtureId.isin(med_timeouts)) &\n",
    "      (\n",
    "       (tennis.StateOfPlay ==  'MedicalTimeoutCompetitorTwo') |\n",
    "       (tennis.StateOfPlay ==  'MedicalTimeoutCompetitorOne') |\n",
    "       (tennis.StateOfPlay == 'WinnerCompetitorOne') |\n",
    "       (tennis.StateOfPlay == 'WinnerCompetitorTwo')\n",
    "      )\n",
    "      ]"
   ]
  },
  {
   "cell_type": "markdown",
   "metadata": {},
   "source": [
    "### How many fixtures/matches are there?"
   ]
  },
  {
   "cell_type": "code",
   "execution_count": 6,
   "metadata": {
    "collapsed": false
   },
   "outputs": [
    {
     "data": {
      "text/plain": [
       "4497"
      ]
     },
     "execution_count": 6,
     "metadata": {},
     "output_type": "execute_result"
    }
   ],
   "source": [
    "tennis.FixtureId.nunique()"
   ]
  },
  {
   "cell_type": "markdown",
   "metadata": {},
   "source": [
    "### How many data points/rows for each fixture?"
   ]
  },
  {
   "cell_type": "code",
   "execution_count": 7,
   "metadata": {
    "collapsed": false
   },
   "outputs": [
    {
     "data": {
      "text/plain": [
       "FixtureId\n",
       "3221713    240\n",
       "3221714    110\n",
       "3221715    134\n",
       "3221718    125\n",
       "3221719    130\n",
       "3221720    103\n",
       "3221727     93\n",
       "3221733    129\n",
       "3221734    116\n",
       "3221735     90\n",
       "3221736    134\n",
       "3221737    135\n",
       "3221738    171\n",
       "3221741    147\n",
       "3221742    117\n",
       "3221749     97\n",
       "3221753    121\n",
       "3221755     89\n",
       "3221756    217\n",
       "3221759    160\n",
       "3221760    120\n",
       "3221761    197\n",
       "3221762     93\n",
       "3221767    117\n",
       "3221768    105\n",
       "3221772    130\n",
       "3221773    150\n",
       "3221781     95\n",
       "3221782     92\n",
       "3221783    200\n",
       "          ... \n",
       "4273156    105\n",
       "4273157    113\n",
       "4273158    151\n",
       "4273159    148\n",
       "4273160    219\n",
       "4273161    158\n",
       "4273212    110\n",
       "4273213    192\n",
       "4273217    126\n",
       "4273220    144\n",
       "4273221    120\n",
       "4273224    138\n",
       "4273225     87\n",
       "4273699    128\n",
       "4274115    135\n",
       "4274116    118\n",
       "4274264    119\n",
       "4274265    106\n",
       "4274271     76\n",
       "4274365    143\n",
       "4274366    126\n",
       "4274368    106\n",
       "4274369    120\n",
       "4274474    114\n",
       "4275163     96\n",
       "4275164     92\n",
       "4275262     98\n",
       "4275266     79\n",
       "4276781    150\n",
       "4276782    171\n",
       "dtype: int64"
      ]
     },
     "execution_count": 7,
     "metadata": {},
     "output_type": "execute_result"
    }
   ],
   "source": [
    "tennis.groupby('FixtureId').size()"
   ]
  },
  {
   "cell_type": "markdown",
   "metadata": {},
   "source": [
    "#### Wide variety of possible scores for matches - how will this affect the model?"
   ]
  },
  {
   "cell_type": "markdown",
   "metadata": {},
   "source": [
    "### Does each fixture have a winner?"
   ]
  },
  {
   "cell_type": "markdown",
   "metadata": {},
   "source": [
    "#### Make a wins only df:"
   ]
  },
  {
   "cell_type": "code",
   "execution_count": 8,
   "metadata": {
    "collapsed": false
   },
   "outputs": [],
   "source": [
    "tennis_wins = tennis[(tennis.StateOfPlay == 'WinnerCompetitorOne') | \n",
    "                     (tennis.StateOfPlay == 'WinnerCompetitorTwo')]"
   ]
  },
  {
   "cell_type": "code",
   "execution_count": 9,
   "metadata": {
    "collapsed": false
   },
   "outputs": [
    {
     "data": {
      "text/html": [
       "<div>\n",
       "<table border=\"1\" class=\"dataframe\">\n",
       "  <thead>\n",
       "    <tr style=\"text-align: right;\">\n",
       "      <th></th>\n",
       "      <th>FixtureId</th>\n",
       "      <th>Competitor1CurrentGameScorePoints</th>\n",
       "      <th>Competitor1CurrentSetScore</th>\n",
       "      <th>Competitor1MatchScore</th>\n",
       "      <th>Competitor2CurrentGameScorePoints</th>\n",
       "      <th>Competitor2CurrentSetScore</th>\n",
       "      <th>Competitor2MatchScore</th>\n",
       "      <th>Serving</th>\n",
       "      <th>StateOfPlay</th>\n",
       "    </tr>\n",
       "  </thead>\n",
       "  <tbody>\n",
       "    <tr>\n",
       "      <th>239</th>\n",
       "      <td>3221713</td>\n",
       "      <td>2</td>\n",
       "      <td>10</td>\n",
       "      <td>1</td>\n",
       "      <td>4</td>\n",
       "      <td>12</td>\n",
       "      <td>2</td>\n",
       "      <td>1</td>\n",
       "      <td>WinnerCompetitorTwo</td>\n",
       "    </tr>\n",
       "    <tr>\n",
       "      <th>349</th>\n",
       "      <td>3221714</td>\n",
       "      <td>6</td>\n",
       "      <td>6</td>\n",
       "      <td>2</td>\n",
       "      <td>4</td>\n",
       "      <td>3</td>\n",
       "      <td>0</td>\n",
       "      <td>2</td>\n",
       "      <td>WinnerCompetitorOne</td>\n",
       "    </tr>\n",
       "    <tr>\n",
       "      <th>483</th>\n",
       "      <td>3221715</td>\n",
       "      <td>5</td>\n",
       "      <td>6</td>\n",
       "      <td>2</td>\n",
       "      <td>3</td>\n",
       "      <td>2</td>\n",
       "      <td>0</td>\n",
       "      <td>1</td>\n",
       "      <td>WinnerCompetitorOne</td>\n",
       "    </tr>\n",
       "    <tr>\n",
       "      <th>608</th>\n",
       "      <td>3221718</td>\n",
       "      <td>0</td>\n",
       "      <td>4</td>\n",
       "      <td>0</td>\n",
       "      <td>4</td>\n",
       "      <td>6</td>\n",
       "      <td>2</td>\n",
       "      <td>1</td>\n",
       "      <td>WinnerCompetitorTwo</td>\n",
       "    </tr>\n",
       "    <tr>\n",
       "      <th>738</th>\n",
       "      <td>3221719</td>\n",
       "      <td>4</td>\n",
       "      <td>6</td>\n",
       "      <td>2</td>\n",
       "      <td>2</td>\n",
       "      <td>2</td>\n",
       "      <td>0</td>\n",
       "      <td>2</td>\n",
       "      <td>WinnerCompetitorOne</td>\n",
       "    </tr>\n",
       "  </tbody>\n",
       "</table>\n",
       "</div>"
      ],
      "text/plain": [
       "     FixtureId  Competitor1CurrentGameScorePoints  Competitor1CurrentSetScore  \\\n",
       "239    3221713                                  2                          10   \n",
       "349    3221714                                  6                           6   \n",
       "483    3221715                                  5                           6   \n",
       "608    3221718                                  0                           4   \n",
       "738    3221719                                  4                           6   \n",
       "\n",
       "     Competitor1MatchScore  Competitor2CurrentGameScorePoints  \\\n",
       "239                      1                                  4   \n",
       "349                      2                                  4   \n",
       "483                      2                                  3   \n",
       "608                      0                                  4   \n",
       "738                      2                                  2   \n",
       "\n",
       "     Competitor2CurrentSetScore  Competitor2MatchScore  Serving  \\\n",
       "239                          12                      2        1   \n",
       "349                           3                      0        2   \n",
       "483                           2                      0        1   \n",
       "608                           6                      2        1   \n",
       "738                           2                      0        2   \n",
       "\n",
       "             StateOfPlay  \n",
       "239  WinnerCompetitorTwo  \n",
       "349  WinnerCompetitorOne  \n",
       "483  WinnerCompetitorOne  \n",
       "608  WinnerCompetitorTwo  \n",
       "738  WinnerCompetitorOne  "
      ]
     },
     "execution_count": 9,
     "metadata": {},
     "output_type": "execute_result"
    }
   ],
   "source": [
    "tennis_wins.head()"
   ]
  },
  {
   "cell_type": "code",
   "execution_count": 10,
   "metadata": {
    "collapsed": false
   },
   "outputs": [
    {
     "data": {
      "text/plain": [
       "(4500, 9)"
      ]
     },
     "execution_count": 10,
     "metadata": {},
     "output_type": "execute_result"
    }
   ],
   "source": [
    "tennis_wins.shape"
   ]
  },
  {
   "cell_type": "markdown",
   "metadata": {},
   "source": [
    "#### There are 3 more wins than total number of matches. Which match/es have more than one winner listed?"
   ]
  },
  {
   "cell_type": "code",
   "execution_count": 11,
   "metadata": {
    "collapsed": true
   },
   "outputs": [],
   "source": [
    "matches = tennis_wins.FixtureId.value_counts()"
   ]
  },
  {
   "cell_type": "code",
   "execution_count": 12,
   "metadata": {
    "collapsed": false
   },
   "outputs": [
    {
     "data": {
      "text/plain": [
       "3921626    4\n",
       "Name: FixtureId, dtype: int64"
      ]
     },
     "execution_count": 12,
     "metadata": {},
     "output_type": "execute_result"
    }
   ],
   "source": [
    "matches[matches > 1]"
   ]
  },
  {
   "cell_type": "code",
   "execution_count": 13,
   "metadata": {
    "collapsed": false
   },
   "outputs": [
    {
     "data": {
      "text/html": [
       "<div>\n",
       "<table border=\"1\" class=\"dataframe\">\n",
       "  <thead>\n",
       "    <tr style=\"text-align: right;\">\n",
       "      <th></th>\n",
       "      <th>FixtureId</th>\n",
       "      <th>Competitor1CurrentGameScorePoints</th>\n",
       "      <th>Competitor1CurrentSetScore</th>\n",
       "      <th>Competitor1MatchScore</th>\n",
       "      <th>Competitor2CurrentGameScorePoints</th>\n",
       "      <th>Competitor2CurrentSetScore</th>\n",
       "      <th>Competitor2MatchScore</th>\n",
       "      <th>Serving</th>\n",
       "      <th>StateOfPlay</th>\n",
       "    </tr>\n",
       "  </thead>\n",
       "  <tbody>\n",
       "    <tr>\n",
       "      <th>41752</th>\n",
       "      <td>3921626</td>\n",
       "      <td>4</td>\n",
       "      <td>6</td>\n",
       "      <td>0</td>\n",
       "      <td>6</td>\n",
       "      <td>6</td>\n",
       "      <td>0</td>\n",
       "      <td>1</td>\n",
       "      <td>BetweenPoints</td>\n",
       "    </tr>\n",
       "    <tr>\n",
       "      <th>41753</th>\n",
       "      <td>3921626</td>\n",
       "      <td>5</td>\n",
       "      <td>6</td>\n",
       "      <td>0</td>\n",
       "      <td>6</td>\n",
       "      <td>6</td>\n",
       "      <td>0</td>\n",
       "      <td>2</td>\n",
       "      <td>BetweenPoints</td>\n",
       "    </tr>\n",
       "    <tr>\n",
       "      <th>41754</th>\n",
       "      <td>3921626</td>\n",
       "      <td>1</td>\n",
       "      <td>0</td>\n",
       "      <td>0</td>\n",
       "      <td>0</td>\n",
       "      <td>0</td>\n",
       "      <td>1</td>\n",
       "      <td>1</td>\n",
       "      <td>WinnerCompetitorTwo</td>\n",
       "    </tr>\n",
       "    <tr>\n",
       "      <th>41755</th>\n",
       "      <td>3921626</td>\n",
       "      <td>1</td>\n",
       "      <td>0</td>\n",
       "      <td>0</td>\n",
       "      <td>2</td>\n",
       "      <td>0</td>\n",
       "      <td>1</td>\n",
       "      <td>1</td>\n",
       "      <td>WinnerCompetitorTwo</td>\n",
       "    </tr>\n",
       "    <tr>\n",
       "      <th>41756</th>\n",
       "      <td>3921626</td>\n",
       "      <td>1</td>\n",
       "      <td>0</td>\n",
       "      <td>0</td>\n",
       "      <td>3</td>\n",
       "      <td>0</td>\n",
       "      <td>1</td>\n",
       "      <td>1</td>\n",
       "      <td>WinnerCompetitorTwo</td>\n",
       "    </tr>\n",
       "    <tr>\n",
       "      <th>41757</th>\n",
       "      <td>3921626</td>\n",
       "      <td>0</td>\n",
       "      <td>0</td>\n",
       "      <td>0</td>\n",
       "      <td>0</td>\n",
       "      <td>1</td>\n",
       "      <td>1</td>\n",
       "      <td>2</td>\n",
       "      <td>WinnerCompetitorTwo</td>\n",
       "    </tr>\n",
       "  </tbody>\n",
       "</table>\n",
       "</div>"
      ],
      "text/plain": [
       "       FixtureId  Competitor1CurrentGameScorePoints  \\\n",
       "41752    3921626                                  4   \n",
       "41753    3921626                                  5   \n",
       "41754    3921626                                  1   \n",
       "41755    3921626                                  1   \n",
       "41756    3921626                                  1   \n",
       "41757    3921626                                  0   \n",
       "\n",
       "       Competitor1CurrentSetScore  Competitor1MatchScore  \\\n",
       "41752                           6                      0   \n",
       "41753                           6                      0   \n",
       "41754                           0                      0   \n",
       "41755                           0                      0   \n",
       "41756                           0                      0   \n",
       "41757                           0                      0   \n",
       "\n",
       "       Competitor2CurrentGameScorePoints  Competitor2CurrentSetScore  \\\n",
       "41752                                  6                           6   \n",
       "41753                                  6                           6   \n",
       "41754                                  0                           0   \n",
       "41755                                  2                           0   \n",
       "41756                                  3                           0   \n",
       "41757                                  0                           1   \n",
       "\n",
       "       Competitor2MatchScore  Serving          StateOfPlay  \n",
       "41752                      0        1        BetweenPoints  \n",
       "41753                      0        2        BetweenPoints  \n",
       "41754                      1        1  WinnerCompetitorTwo  \n",
       "41755                      1        1  WinnerCompetitorTwo  \n",
       "41756                      1        1  WinnerCompetitorTwo  \n",
       "41757                      1        2  WinnerCompetitorTwo  "
      ]
     },
     "execution_count": 13,
     "metadata": {},
     "output_type": "execute_result"
    }
   ],
   "source": [
    "tennis[tennis.FixtureId==3921626].tail(6)"
   ]
  },
  {
   "cell_type": "markdown",
   "metadata": {},
   "source": [
    "#### This looks like the only match that went into a tiebreaker in the final set, I'm not sure how to deal with this...maybe drop this match?"
   ]
  },
  {
   "cell_type": "markdown",
   "metadata": {},
   "source": [
    "#### Check for any missing a winner (just to be sure)"
   ]
  },
  {
   "cell_type": "code",
   "execution_count": 14,
   "metadata": {
    "collapsed": false
   },
   "outputs": [
    {
     "data": {
      "text/plain": [
       "Series([], Name: FixtureId, dtype: int64)"
      ]
     },
     "execution_count": 14,
     "metadata": {},
     "output_type": "execute_result"
    }
   ],
   "source": [
    "matches[matches < 1]"
   ]
  },
  {
   "cell_type": "markdown",
   "metadata": {},
   "source": [
    "### Reshape the wins df, make a numerical \"Winner\" column"
   ]
  },
  {
   "cell_type": "code",
   "execution_count": 15,
   "metadata": {
    "collapsed": false
   },
   "outputs": [],
   "source": [
    "tennis_wins = tennis_wins.rename(columns={'StateOfPlay': 'Winner'}) "
   ]
  },
  {
   "cell_type": "code",
   "execution_count": 16,
   "metadata": {
    "collapsed": false
   },
   "outputs": [],
   "source": [
    "# winner = 1 if ComptetitorOne won, 0 if they lost\n",
    "tennis_wins['Winner'] = np.where(tennis_wins['Winner']==\"WinnerCompetitorOne\", 1, 0)"
   ]
  },
  {
   "cell_type": "code",
   "execution_count": 17,
   "metadata": {
    "collapsed": false
   },
   "outputs": [
    {
     "data": {
      "text/plain": [
       "Index(['FixtureId', 'Competitor1CurrentGameScorePoints',\n",
       "       'Competitor1CurrentSetScore', 'Competitor1MatchScore',\n",
       "       'Competitor2CurrentGameScorePoints', 'Competitor2CurrentSetScore',\n",
       "       'Competitor2MatchScore', 'Serving', 'Winner'],\n",
       "      dtype='object')"
      ]
     },
     "execution_count": 17,
     "metadata": {},
     "output_type": "execute_result"
    }
   ],
   "source": [
    "tennis_wins.columns"
   ]
  },
  {
   "cell_type": "code",
   "execution_count": 18,
   "metadata": {
    "collapsed": true
   },
   "outputs": [],
   "source": [
    "to_drop = ['Competitor1CurrentGameScorePoints',\n",
    "       'Competitor1CurrentSetScore', 'Competitor1MatchScore',\n",
    "       'Competitor2CurrentGameScorePoints', 'Competitor2CurrentSetScore',\n",
    "       'Competitor2MatchScore', 'Serving']"
   ]
  },
  {
   "cell_type": "code",
   "execution_count": 19,
   "metadata": {
    "collapsed": true
   },
   "outputs": [],
   "source": [
    "tennis_wins.drop(to_drop, axis=1, inplace=True)"
   ]
  },
  {
   "cell_type": "code",
   "execution_count": 20,
   "metadata": {
    "collapsed": false
   },
   "outputs": [
    {
     "data": {
      "text/html": [
       "<div>\n",
       "<table border=\"1\" class=\"dataframe\">\n",
       "  <thead>\n",
       "    <tr style=\"text-align: right;\">\n",
       "      <th></th>\n",
       "      <th>FixtureId</th>\n",
       "      <th>Winner</th>\n",
       "    </tr>\n",
       "  </thead>\n",
       "  <tbody>\n",
       "    <tr>\n",
       "      <th>239</th>\n",
       "      <td>3221713</td>\n",
       "      <td>0</td>\n",
       "    </tr>\n",
       "    <tr>\n",
       "      <th>349</th>\n",
       "      <td>3221714</td>\n",
       "      <td>1</td>\n",
       "    </tr>\n",
       "    <tr>\n",
       "      <th>483</th>\n",
       "      <td>3221715</td>\n",
       "      <td>1</td>\n",
       "    </tr>\n",
       "    <tr>\n",
       "      <th>608</th>\n",
       "      <td>3221718</td>\n",
       "      <td>0</td>\n",
       "    </tr>\n",
       "    <tr>\n",
       "      <th>738</th>\n",
       "      <td>3221719</td>\n",
       "      <td>1</td>\n",
       "    </tr>\n",
       "  </tbody>\n",
       "</table>\n",
       "</div>"
      ],
      "text/plain": [
       "     FixtureId  Winner\n",
       "239    3221713       0\n",
       "349    3221714       1\n",
       "483    3221715       1\n",
       "608    3221718       0\n",
       "738    3221719       1"
      ]
     },
     "execution_count": 20,
     "metadata": {},
     "output_type": "execute_result"
    }
   ],
   "source": [
    "tennis_wins.head()"
   ]
  },
  {
   "cell_type": "code",
   "execution_count": 21,
   "metadata": {
    "collapsed": false
   },
   "outputs": [],
   "source": [
    "tennis_wins.drop_duplicates(inplace=True)"
   ]
  },
  {
   "cell_type": "code",
   "execution_count": 22,
   "metadata": {
    "collapsed": false
   },
   "outputs": [
    {
     "data": {
      "text/plain": [
       "(4497, 2)"
      ]
     },
     "execution_count": 22,
     "metadata": {},
     "output_type": "execute_result"
    }
   ],
   "source": [
    "tennis_wins.shape"
   ]
  },
  {
   "cell_type": "markdown",
   "metadata": {},
   "source": [
    "### Merge tennis_wins with tennis to add the \"Winner\" column filled in for every row in each match"
   ]
  },
  {
   "cell_type": "code",
   "execution_count": 23,
   "metadata": {
    "collapsed": false
   },
   "outputs": [],
   "source": [
    "tennis_winners = pd.merge(tennis, tennis_wins, on='FixtureId')"
   ]
  },
  {
   "cell_type": "code",
   "execution_count": 24,
   "metadata": {
    "collapsed": false
   },
   "outputs": [
    {
     "data": {
      "text/html": [
       "<div>\n",
       "<table border=\"1\" class=\"dataframe\">\n",
       "  <thead>\n",
       "    <tr style=\"text-align: right;\">\n",
       "      <th></th>\n",
       "      <th>FixtureId</th>\n",
       "      <th>Competitor1CurrentGameScorePoints</th>\n",
       "      <th>Competitor1CurrentSetScore</th>\n",
       "      <th>Competitor1MatchScore</th>\n",
       "      <th>Competitor2CurrentGameScorePoints</th>\n",
       "      <th>Competitor2CurrentSetScore</th>\n",
       "      <th>Competitor2MatchScore</th>\n",
       "      <th>Serving</th>\n",
       "      <th>StateOfPlay</th>\n",
       "      <th>Winner</th>\n",
       "    </tr>\n",
       "  </thead>\n",
       "  <tbody>\n",
       "    <tr>\n",
       "      <th>610376</th>\n",
       "      <td>4276782</td>\n",
       "      <td>1</td>\n",
       "      <td>3</td>\n",
       "      <td>1</td>\n",
       "      <td>0</td>\n",
       "      <td>5</td>\n",
       "      <td>1</td>\n",
       "      <td>2</td>\n",
       "      <td>BetweenPoints</td>\n",
       "      <td>0</td>\n",
       "    </tr>\n",
       "    <tr>\n",
       "      <th>610377</th>\n",
       "      <td>4276782</td>\n",
       "      <td>1</td>\n",
       "      <td>3</td>\n",
       "      <td>1</td>\n",
       "      <td>1</td>\n",
       "      <td>5</td>\n",
       "      <td>1</td>\n",
       "      <td>2</td>\n",
       "      <td>BetweenPoints</td>\n",
       "      <td>0</td>\n",
       "    </tr>\n",
       "    <tr>\n",
       "      <th>610378</th>\n",
       "      <td>4276782</td>\n",
       "      <td>1</td>\n",
       "      <td>3</td>\n",
       "      <td>1</td>\n",
       "      <td>2</td>\n",
       "      <td>5</td>\n",
       "      <td>1</td>\n",
       "      <td>2</td>\n",
       "      <td>BetweenPoints</td>\n",
       "      <td>0</td>\n",
       "    </tr>\n",
       "    <tr>\n",
       "      <th>610379</th>\n",
       "      <td>4276782</td>\n",
       "      <td>1</td>\n",
       "      <td>3</td>\n",
       "      <td>1</td>\n",
       "      <td>3</td>\n",
       "      <td>5</td>\n",
       "      <td>1</td>\n",
       "      <td>2</td>\n",
       "      <td>BetweenPoints</td>\n",
       "      <td>0</td>\n",
       "    </tr>\n",
       "    <tr>\n",
       "      <th>610380</th>\n",
       "      <td>4276782</td>\n",
       "      <td>1</td>\n",
       "      <td>3</td>\n",
       "      <td>1</td>\n",
       "      <td>4</td>\n",
       "      <td>6</td>\n",
       "      <td>2</td>\n",
       "      <td>1</td>\n",
       "      <td>WinnerCompetitorTwo</td>\n",
       "      <td>0</td>\n",
       "    </tr>\n",
       "  </tbody>\n",
       "</table>\n",
       "</div>"
      ],
      "text/plain": [
       "        FixtureId  Competitor1CurrentGameScorePoints  \\\n",
       "610376    4276782                                  1   \n",
       "610377    4276782                                  1   \n",
       "610378    4276782                                  1   \n",
       "610379    4276782                                  1   \n",
       "610380    4276782                                  1   \n",
       "\n",
       "        Competitor1CurrentSetScore  Competitor1MatchScore  \\\n",
       "610376                           3                      1   \n",
       "610377                           3                      1   \n",
       "610378                           3                      1   \n",
       "610379                           3                      1   \n",
       "610380                           3                      1   \n",
       "\n",
       "        Competitor2CurrentGameScorePoints  Competitor2CurrentSetScore  \\\n",
       "610376                                  0                           5   \n",
       "610377                                  1                           5   \n",
       "610378                                  2                           5   \n",
       "610379                                  3                           5   \n",
       "610380                                  4                           6   \n",
       "\n",
       "        Competitor2MatchScore  Serving          StateOfPlay  Winner  \n",
       "610376                      1        2        BetweenPoints       0  \n",
       "610377                      1        2        BetweenPoints       0  \n",
       "610378                      1        2        BetweenPoints       0  \n",
       "610379                      1        2        BetweenPoints       0  \n",
       "610380                      2        1  WinnerCompetitorTwo       0  "
      ]
     },
     "execution_count": 24,
     "metadata": {},
     "output_type": "execute_result"
    }
   ],
   "source": [
    "tennis_winners.tail()"
   ]
  },
  {
   "cell_type": "code",
   "execution_count": 25,
   "metadata": {
    "collapsed": false
   },
   "outputs": [
    {
     "data": {
      "text/plain": [
       "(610381, 10)"
      ]
     },
     "execution_count": 25,
     "metadata": {},
     "output_type": "execute_result"
    }
   ],
   "source": [
    "tennis_winners.shape"
   ]
  },
  {
   "cell_type": "markdown",
   "metadata": {},
   "source": [
    "### Get dummies for categorical values (StateOfPlay)"
   ]
  },
  {
   "cell_type": "code",
   "execution_count": 26,
   "metadata": {
    "collapsed": false
   },
   "outputs": [],
   "source": [
    "tennis_winners = pd.get_dummies(tennis_winners)"
   ]
  },
  {
   "cell_type": "code",
   "execution_count": 27,
   "metadata": {
    "collapsed": false
   },
   "outputs": [
    {
     "data": {
      "text/html": [
       "<div>\n",
       "<table border=\"1\" class=\"dataframe\">\n",
       "  <thead>\n",
       "    <tr style=\"text-align: right;\">\n",
       "      <th></th>\n",
       "      <th>FixtureId</th>\n",
       "      <th>Competitor1CurrentGameScorePoints</th>\n",
       "      <th>Competitor1CurrentSetScore</th>\n",
       "      <th>Competitor1MatchScore</th>\n",
       "      <th>Competitor2CurrentGameScorePoints</th>\n",
       "      <th>Competitor2CurrentSetScore</th>\n",
       "      <th>Competitor2MatchScore</th>\n",
       "      <th>Serving</th>\n",
       "      <th>Winner</th>\n",
       "      <th>StateOfPlay_BetweenPoints</th>\n",
       "      <th>StateOfPlay_Challenge</th>\n",
       "      <th>StateOfPlay_MedicalTimeoutCompetitorOne</th>\n",
       "      <th>StateOfPlay_MedicalTimeoutCompetitorTwo</th>\n",
       "      <th>StateOfPlay_PlaySuspended</th>\n",
       "      <th>StateOfPlay_PointInProgress</th>\n",
       "      <th>StateOfPlay_ShortDelay</th>\n",
       "      <th>StateOfPlay_WinnerCompetitorOne</th>\n",
       "      <th>StateOfPlay_WinnerCompetitorTwo</th>\n",
       "    </tr>\n",
       "  </thead>\n",
       "  <tbody>\n",
       "    <tr>\n",
       "      <th>0</th>\n",
       "      <td>3221713</td>\n",
       "      <td>0</td>\n",
       "      <td>0</td>\n",
       "      <td>0</td>\n",
       "      <td>0</td>\n",
       "      <td>0</td>\n",
       "      <td>0</td>\n",
       "      <td>2</td>\n",
       "      <td>0</td>\n",
       "      <td>0</td>\n",
       "      <td>0</td>\n",
       "      <td>0</td>\n",
       "      <td>0</td>\n",
       "      <td>0</td>\n",
       "      <td>1</td>\n",
       "      <td>0</td>\n",
       "      <td>0</td>\n",
       "      <td>0</td>\n",
       "    </tr>\n",
       "    <tr>\n",
       "      <th>1</th>\n",
       "      <td>3221713</td>\n",
       "      <td>0</td>\n",
       "      <td>0</td>\n",
       "      <td>0</td>\n",
       "      <td>1</td>\n",
       "      <td>0</td>\n",
       "      <td>0</td>\n",
       "      <td>2</td>\n",
       "      <td>0</td>\n",
       "      <td>1</td>\n",
       "      <td>0</td>\n",
       "      <td>0</td>\n",
       "      <td>0</td>\n",
       "      <td>0</td>\n",
       "      <td>0</td>\n",
       "      <td>0</td>\n",
       "      <td>0</td>\n",
       "      <td>0</td>\n",
       "    </tr>\n",
       "    <tr>\n",
       "      <th>2</th>\n",
       "      <td>3221713</td>\n",
       "      <td>0</td>\n",
       "      <td>0</td>\n",
       "      <td>0</td>\n",
       "      <td>2</td>\n",
       "      <td>0</td>\n",
       "      <td>0</td>\n",
       "      <td>2</td>\n",
       "      <td>0</td>\n",
       "      <td>1</td>\n",
       "      <td>0</td>\n",
       "      <td>0</td>\n",
       "      <td>0</td>\n",
       "      <td>0</td>\n",
       "      <td>0</td>\n",
       "      <td>0</td>\n",
       "      <td>0</td>\n",
       "      <td>0</td>\n",
       "    </tr>\n",
       "    <tr>\n",
       "      <th>3</th>\n",
       "      <td>3221713</td>\n",
       "      <td>1</td>\n",
       "      <td>0</td>\n",
       "      <td>0</td>\n",
       "      <td>2</td>\n",
       "      <td>0</td>\n",
       "      <td>0</td>\n",
       "      <td>2</td>\n",
       "      <td>0</td>\n",
       "      <td>1</td>\n",
       "      <td>0</td>\n",
       "      <td>0</td>\n",
       "      <td>0</td>\n",
       "      <td>0</td>\n",
       "      <td>0</td>\n",
       "      <td>0</td>\n",
       "      <td>0</td>\n",
       "      <td>0</td>\n",
       "    </tr>\n",
       "    <tr>\n",
       "      <th>4</th>\n",
       "      <td>3221713</td>\n",
       "      <td>1</td>\n",
       "      <td>0</td>\n",
       "      <td>0</td>\n",
       "      <td>3</td>\n",
       "      <td>0</td>\n",
       "      <td>0</td>\n",
       "      <td>2</td>\n",
       "      <td>0</td>\n",
       "      <td>1</td>\n",
       "      <td>0</td>\n",
       "      <td>0</td>\n",
       "      <td>0</td>\n",
       "      <td>0</td>\n",
       "      <td>0</td>\n",
       "      <td>0</td>\n",
       "      <td>0</td>\n",
       "      <td>0</td>\n",
       "    </tr>\n",
       "  </tbody>\n",
       "</table>\n",
       "</div>"
      ],
      "text/plain": [
       "   FixtureId  Competitor1CurrentGameScorePoints  Competitor1CurrentSetScore  \\\n",
       "0    3221713                                  0                           0   \n",
       "1    3221713                                  0                           0   \n",
       "2    3221713                                  0                           0   \n",
       "3    3221713                                  1                           0   \n",
       "4    3221713                                  1                           0   \n",
       "\n",
       "   Competitor1MatchScore  Competitor2CurrentGameScorePoints  \\\n",
       "0                      0                                  0   \n",
       "1                      0                                  1   \n",
       "2                      0                                  2   \n",
       "3                      0                                  2   \n",
       "4                      0                                  3   \n",
       "\n",
       "   Competitor2CurrentSetScore  Competitor2MatchScore  Serving  Winner  \\\n",
       "0                           0                      0        2       0   \n",
       "1                           0                      0        2       0   \n",
       "2                           0                      0        2       0   \n",
       "3                           0                      0        2       0   \n",
       "4                           0                      0        2       0   \n",
       "\n",
       "   StateOfPlay_BetweenPoints  StateOfPlay_Challenge  \\\n",
       "0                          0                      0   \n",
       "1                          1                      0   \n",
       "2                          1                      0   \n",
       "3                          1                      0   \n",
       "4                          1                      0   \n",
       "\n",
       "   StateOfPlay_MedicalTimeoutCompetitorOne  \\\n",
       "0                                        0   \n",
       "1                                        0   \n",
       "2                                        0   \n",
       "3                                        0   \n",
       "4                                        0   \n",
       "\n",
       "   StateOfPlay_MedicalTimeoutCompetitorTwo  StateOfPlay_PlaySuspended  \\\n",
       "0                                        0                          0   \n",
       "1                                        0                          0   \n",
       "2                                        0                          0   \n",
       "3                                        0                          0   \n",
       "4                                        0                          0   \n",
       "\n",
       "   StateOfPlay_PointInProgress  StateOfPlay_ShortDelay  \\\n",
       "0                            1                       0   \n",
       "1                            0                       0   \n",
       "2                            0                       0   \n",
       "3                            0                       0   \n",
       "4                            0                       0   \n",
       "\n",
       "   StateOfPlay_WinnerCompetitorOne  StateOfPlay_WinnerCompetitorTwo  \n",
       "0                                0                                0  \n",
       "1                                0                                0  \n",
       "2                                0                                0  \n",
       "3                                0                                0  \n",
       "4                                0                                0  "
      ]
     },
     "execution_count": 27,
     "metadata": {},
     "output_type": "execute_result"
    }
   ],
   "source": [
    "tennis_winners.head()"
   ]
  },
  {
   "cell_type": "code",
   "execution_count": 28,
   "metadata": {
    "collapsed": false
   },
   "outputs": [],
   "source": [
    "tennis_winners.to_pickle('tennis_winners')"
   ]
  },
  {
   "cell_type": "markdown",
   "metadata": {},
   "source": [
    "### Predictive modeling: How do events (points or timeouts) earlier or at various points in the game affect the final outcome? Might perform poorly earlier in a match and better as the match progresses; would also perform poorly if the points are very even throughout the match"
   ]
  },
  {
   "cell_type": "markdown",
   "metadata": {
    "collapsed": true
   },
   "source": [
    "### Use log-loss metric to evaluate model "
   ]
  },
  {
   "cell_type": "markdown",
   "metadata": {},
   "source": [
    "\"Logistic regression is attractive in the context of tennis prediction for its speed of training, resistance to\n",
    "overfitting (described in Section 2.5.5), and for directly returning a match-winning probability. However,\n",
    "without additional modification, it cannot model complex relationships between the input features.\"\n",
    "\n",
    "\"ANNs can detect complex relationships between the various features of the match. However, they have a\n",
    "“black box” nature, meaning that the trained network gives us no additional understanding of the system,\n",
    "as it is too difficult to interpret. Furthermore, ANNs are prone to overfitting and therefore necessitate\n",
    "a large amount of training data. Also, ANN model development is highly empirical, and the selection of\n",
    "the hyperparameters of the model (discussed in Section 2.5.5) often requires a trial and error approach\"\n",
    "\n",
    "\" SVMs have several advantages over ANNs in this context. Firstly, the training never results\n",
    "in a local minimum, as is frequent with ANNs. Also, SVMs typically out-perform ANNs in prediction\n",
    "accuracy, especially when the ratio of features to training examples is high. However, the training time\n",
    "for SVMs tends to be much higher, and the models tend to be difficult to configure.\"\n",
    "\n",
    "To overcome the overfitting problem, only the most relevant features of matches will be used for training.\n",
    "The process by which these features are selected is called feature selection, for which various algorithms\n",
    "exist. Removing irrelevant features will also improve training times.\n",
    "\n",
    "A successful tennis prediction model will necessitate a careful selection of hyperparameters (for LogReg, C). (GridSearchCV)\n",
    "\n",
    "accuracy does not consider the deviations of the predicted\n",
    "probabilities from the actual match outcomes. The more successful betting strategies rely on these\n",
    "probabilities. For this reason, we instead employ logistic loss as an evaluation metric, which penalises\n",
    "any deviations from actual match outcomes\n",
    "\n",
    "https://www.doc.ic.ac.uk/teaching/distinguished-projects/2015/m.sipko.pdf"
   ]
  },
  {
   "cell_type": "markdown",
   "metadata": {},
   "source": [
    "#### Probably don't need to use Cross-validation because data set is large, can just do a train-test split?"
   ]
  },
  {
   "cell_type": "markdown",
   "metadata": {},
   "source": [
    "model the score differential and then map that back to win probabilities\n",
    "This is most obvious in very close games (or elections) or blowouts; in either of these settings the win/loss outcome provides essentially zero information.\n",
    "http://andrewgelman.com/2014/02/25/basketball-stats-dont-model-probability-win-model-expected-score-differential/"
   ]
  },
  {
   "cell_type": "markdown",
   "metadata": {},
   "source": [
    "bayesian estimation of a really simple two parameter model: the probability of player A winning a point on his serve and the probability of player B winning a point on his serve.\n",
    "(Paul)"
   ]
  },
  {
   "cell_type": "markdown",
   "metadata": {},
   "source": [
    "https://www.doc.ic.ac.uk/teaching/distinguished-projects/2012/a.madurska%20.pdf"
   ]
  }
 ],
 "metadata": {
  "kernelspec": {
   "display_name": "Python 3",
   "language": "python",
   "name": "python3"
  },
  "language_info": {
   "codemirror_mode": {
    "name": "ipython",
    "version": 3
   },
   "file_extension": ".py",
   "mimetype": "text/x-python",
   "name": "python",
   "nbconvert_exporter": "python",
   "pygments_lexer": "ipython3",
   "version": "3.6.0"
  }
 },
 "nbformat": 4,
 "nbformat_minor": 2
}
